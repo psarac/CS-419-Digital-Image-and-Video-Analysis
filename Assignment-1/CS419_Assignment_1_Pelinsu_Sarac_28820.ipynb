{
  "nbformat": 4,
  "nbformat_minor": 0,
  "metadata": {
    "colab": {
      "provenance": []
    },
    "kernelspec": {
      "name": "python3",
      "display_name": "Python 3"
    },
    "language_info": {
      "name": "python"
    }
  },
  "cells": [
    {
      "cell_type": "markdown",
      "source": [
        "#Loading the Image\n",
        "In this section, image to be processed is loaded via openCV library in grayscale. Then, the matrix of the image is normalized to have 1 instead of 255 as foreground. In other words, matrix is converted from grayscale to binary."
      ],
      "metadata": {
        "id": "d4ryOZ50Q7ho"
      }
    },
    {
      "cell_type": "code",
      "execution_count": 1,
      "metadata": {
        "colab": {
          "base_uri": "https://localhost:8080/",
          "height": 470
        },
        "id": "wV5bTfzvQ3QH",
        "outputId": "919b4270-274e-4d70-f913-ae556cbbbb6f"
      },
      "outputs": [
        {
          "output_type": "stream",
          "name": "stdout",
          "text": [
            "Mounted at /content/drive\n"
          ]
        },
        {
          "output_type": "execute_result",
          "data": {
            "text/plain": [
              "<matplotlib.image.AxesImage at 0x7e1d40a43c10>"
            ]
          },
          "metadata": {},
          "execution_count": 1
        },
        {
          "output_type": "display_data",
          "data": {
            "text/plain": [
              "<Figure size 640x480 with 1 Axes>"
            ],
            "image/png": "[encoded data removed]"
          },
          "metadata": {}
        }
      ],
      "source": [
        "from google.colab import drive\n",
        "import cv2\n",
        "import numpy as np\n",
        "from google.colab.patches import cv2_imshow\n",
        "from matplotlib import pyplot as plt\n",
        "\n",
        "# Mount Google Drive\n",
        "drive.mount('/content/drive')\n",
        "\n",
        "# Path to the image in Google Drive\n",
        "image_file = '/content/drive/My Drive/perfectly_painted_cat.png'\n",
        "\n",
        "# Load the image\n",
        "perfectly_painted_cat = cv2.imread(image_file, cv2.IMREAD_GRAYSCALE)\n",
        "\n",
        "# Normalize the image, convert from grayscale to binary\n",
        "perfectly_painted_cat = (perfectly_painted_cat - np.min(perfectly_painted_cat)) / (np.max(perfectly_painted_cat) - np.min(perfectly_painted_cat))\n",
        "\n",
        "plt.imshow(perfectly_painted_cat, cmap=\"gray\")"
      ]
    },
    {
      "cell_type": "markdown",
      "source": [
        "#Utility Functions\n",
        "This section contains the utility functions that will be used for mathematical morphology operations. These utilities are complementing, taking union and intersection."
      ],
      "metadata": {
        "id": "DwXCSqm9T6_C"
      }
    },
    {
      "cell_type": "code",
      "source": [
        "def complement_for_binary(img):\n",
        "\n",
        "    # Complements a binary image\n",
        "\n",
        "    # Assuming the image is a numpy array\n",
        "    img_height, img_width = img.shape\n",
        "\n",
        "    # Array to store the complemented rows\n",
        "    complemented_img = []\n",
        "\n",
        "    for i in range(img_height):\n",
        "\n",
        "        # Array to store the complemented elements of the new row\n",
        "        complemented_row = []\n",
        "\n",
        "        for j in range(img_width):\n",
        "\n",
        "            # Append binary inverse of the row element\n",
        "            if img[i, j] == 0:\n",
        "                complemented_row.append(1)\n",
        "            else:\n",
        "                complemented_row.append(0)\n",
        "\n",
        "        complemented_img.append(complemented_row)\n",
        "\n",
        "    # Return the numpy array version of the new complemented image\n",
        "    return np.array(complemented_img).astype(np.uint8)"
      ],
      "metadata": {
        "id": "AlGYe8VpT1An"
      },
      "execution_count": 2,
      "outputs": []
    },
    {
      "cell_type": "code",
      "source": [
        "def intersect_for_binary(img1, img2):\n",
        "\n",
        "    # Takes the intersection of two binary images and returns the image with intersecting pixels\n",
        "\n",
        "    # Assuming img1 and img2 are numpy arrays\n",
        "    img1_height, img1_width = img1.shape\n",
        "    img2_height, img2_width = img2.shape\n",
        "\n",
        "    # To be able to take intersect, images must be of same size\n",
        "    if img1_height != img2_height and img2_height != img2_width:\n",
        "        print(\"Unequal shape detected at intersection:\", img1.shape, img2.shape)\n",
        "        return -1\n",
        "\n",
        "    # Since the images are binary images, i.e. they either have 0 or 1 as elements,\n",
        "    #  in the case of element-wise multiplication, only case that the result will be 1\n",
        "    #  is when two pixels from the images are both 1, in other words, pixels are intersecting\n",
        "    intersect_img = np.multiply(img1, img2).astype(np.uint8)\n",
        "\n",
        "    return intersect_img"
      ],
      "metadata": {
        "id": "vuQ5KWJRWGW6"
      },
      "execution_count": 3,
      "outputs": []
    },
    {
      "cell_type": "code",
      "source": [
        "def union_for_binary(img1, img2):\n",
        "\n",
        "    # Takes the union of two binary images and returns the unioned image with all foreground pixels in the union\n",
        "\n",
        "    # Assuming img1 and img2 are numpy arrays\n",
        "    img1_height, img1_width = img1.shape\n",
        "    #img2_height, img2_width = img2.shape\n",
        "\n",
        "    # To be able to take union, images must be of same size\n",
        "    if img1.shape != img2.shape:\n",
        "        print(\"Unequal shape detected at union:\", img1.shape, img2.shape)\n",
        "        return -1\n",
        "\n",
        "    # As the images are binary, logical or operation can be used to take union\n",
        "    #   Or operation would return 1 in all cases that at least one of the two\n",
        "    #   pixels from the two images is 1, i.e. it would take the union of pixels\n",
        "    union_img = np.logical_or(img1, img2).astype(np.uint8)\n",
        "    return union_img"
      ],
      "metadata": {
        "id": "nWYnBJvYXPD0"
      },
      "execution_count": 4,
      "outputs": []
    },
    {
      "cell_type": "markdown",
      "source": [
        "#Mathematical Morphology Operations\n",
        "This section contains the implementations of the mathematical morphology operations needed for the convex hull algorithm. It includes the erosion, hit-or-miss and the convex hull. Thickening is covered in the convex hull function."
      ],
      "metadata": {
        "id": "XTzt2-TkY6N0"
      }
    },
    {
      "cell_type": "code",
      "source": [
        "def erosion_for_binary(img, struct_elt):\n",
        "\n",
        "    # Erosion is the operation that is in the base of convex hull algorithm\n",
        "    # Thus, it is the first to be implemented\n",
        "\n",
        "    # Assuming that both img and struct_elt are numpy arrays\n",
        "    se_height, se_width = struct_elt.shape\n",
        "    img_height, img_width = img.shape\n",
        "\n",
        "    # Limit to check whether the SE fits into the window or not\n",
        "    # It is basically the the number of pixels in the foreground\n",
        "    fit_limit = np.sum(struct_elt)\n",
        "\n",
        "    # How many times should the window shift down? (outer loop var)\n",
        "    row_pass = img_height - se_height + 1\n",
        "    # How many times should the window shift right? (inner loop var)\n",
        "    column_pass = img_width - se_width + 1\n",
        "\n",
        "    # How much padding will be needed after erosion to go back to original size?\n",
        "    lost_pixel_height = (se_height - 1)//2\n",
        "    lost_pixel_width = (se_width - 1)//2\n",
        "\n",
        "    # Pixel values for the eroded image will be saved in this numpy array\n",
        "    #   It includes the padding from the top\n",
        "    eroded_img_np = [[0 for j in range(img_width)] for i in range(lost_pixel_height)]\n",
        "\n",
        "    for i in range(row_pass):\n",
        "\n",
        "        # A numpy array for the current row\n",
        "        #   including the padding from right\n",
        "        eroded_row = [0 for k in range(lost_pixel_width)]\n",
        "\n",
        "        # Each inner iteration consturcts a row\n",
        "        for j in range(column_pass):\n",
        "\n",
        "            # Current window from the image\n",
        "            patch = [img[k][j:j + se_width] for k in range(i, i + se_height)]\n",
        "\n",
        "            # Multiply the window with SE to see whether SE fits into this patch\n",
        "            #   Multiplication is basically taking intersection\n",
        "            #   Since the background of SE is formed of 0s, only foreground will survive\n",
        "            fit_matrix = np.multiply(np.array(patch), struct_elt)\n",
        "            fit_check = np.sum(fit_matrix)\n",
        "\n",
        "            # If the sum of the surviving 1s is equal to number of 1s in SE\n",
        "            #   then the SE fits into the window, thus central pixel is in the foreground\n",
        "            if fit_check == fit_limit:\n",
        "                eroded_row.append(1)\n",
        "            else:\n",
        "                eroded_row.append(0)\n",
        "\n",
        "        # Adding the padding value at the end of the row\n",
        "        pad_from_left = [0 for k in range(lost_pixel_width)]\n",
        "        eroded_row.extend(pad_from_left)\n",
        "        eroded_img_np.append(eroded_row)\n",
        "\n",
        "    # Adding the padding to from the bottom\n",
        "    pad_from_bottom = [[0 for j in range(img_width)] for i in range(lost_pixel_height)]\n",
        "    eroded_img_np.extend(pad_from_bottom)\n",
        "\n",
        "    # Returning the eroded and padded image in numpy form\n",
        "    return np.array(eroded_img_np)"
      ],
      "metadata": {
        "id": "B3OSGK50ZcMv"
      },
      "execution_count": 9,
      "outputs": []
    },
    {
      "cell_type": "code",
      "source": [
        "def hit_or_miss_for_binary(img, SE_foreground, SE_background):\n",
        "\n",
        "    # Implements the hit-or-miss operation\n",
        "    #   i.e., checks whether foreground and background of SE fits to\n",
        "    #   window of image foreground and background exactly\n",
        "    #   and erodes if not\n",
        "    #   It is achieved via intersection of erosion of foreground of image and erosion of background of image\n",
        "    #   with related part of the SE\n",
        "\n",
        "    # Assuming that both img and struct_elt are numpy arrays\n",
        "    # Image complement for the background check\n",
        "    img_comp = complement_for_binary(img)\n",
        "\n",
        "    # Foreground check with erosion\n",
        "    foreground_erosion = erosion_for_binary(img, SE_foreground)\n",
        "    # Background check with erosion\n",
        "    background_erosion = erosion_for_binary(img_comp, SE_background)\n",
        "\n",
        "    # Intersecting foreground and background results for the final image\n",
        "    HorM_img = intersect_for_binary(foreground_erosion, background_erosion)\n",
        "\n",
        "    return HorM_img"
      ],
      "metadata": {
        "id": "HbR4NKDKeUST"
      },
      "execution_count": 6,
      "outputs": []
    },
    {
      "cell_type": "code",
      "source": [
        "def convex_hull_for_binary(img):\n",
        "\n",
        "    # Finds the convex shape that wraps the image as tightly as possible\n",
        "    # Assuming that the img is a numpy array\n",
        "\n",
        "    # Structuring elements that will be used for the algorithm\n",
        "    #   Each element completes the image from one side\n",
        "\n",
        "    #   Foreground Structuring Elements\n",
        "    B1 = np.array([[1, 0, 0],\n",
        "                     [1, 0, 0],\n",
        "                     [1, 0, 0]])\n",
        "\n",
        "    B2 = np.array([[1, 1, 1],\n",
        "                     [0, 0, 0],\n",
        "                     [0, 0, 0]])\n",
        "\n",
        "    B3 = np.array([[0, 0, 1],\n",
        "                     [0, 0, 1],\n",
        "                     [0, 0, 1]])\n",
        "\n",
        "    B4 = np.array([[0, 0, 0],\n",
        "                     [0, 0, 0],\n",
        "                     [1, 1, 1]])\n",
        "\n",
        "    #   Background Structuring Element (same for all foreground elements)\n",
        "    #   To be used at hit-or-miss\n",
        "    Bg = np.array([[0,0,0],\n",
        "                   [0,1,0],\n",
        "                   [0,0,0]])\n",
        "\n",
        "    # Loop for B1:\n",
        "    #   This loop thickens the original image with B1 and Bg\n",
        "    #   until it cannot thicken anymore\n",
        "    #   Thickening process consists of hit-or-miss with B1 and Bg\n",
        "    #   and union of hit-or-miss result with the image\n",
        "\n",
        "    # First stage of thickening\n",
        "    hit_or_miss = hit_or_miss_for_binary(img, B1, Bg)\n",
        "    b1_thick = union_for_binary(img, hit_or_miss)\n",
        "    prev_b1_thick = img\n",
        "\n",
        "    # If the image can be thickened more\n",
        "    while not np.array_equal(prev_b1_thick, b1_thick):\n",
        "\n",
        "        prev_b1_thick = np.copy(b1_thick)\n",
        "\n",
        "        # thicken the image with B1 and Bg\n",
        "        hit_or_miss = hit_or_miss_for_binary(b1_thick, B1, Bg)\n",
        "        b1_thick = union_for_binary(b1_thick, hit_or_miss)\n",
        "\n",
        "    # Loop for B2:\n",
        "    #   This loop thickens the original image with B2 and Bg\n",
        "    #   until it cannot thicken anymore\n",
        "    #   Thickening process consists of hit-or-miss with B2 and Bg\n",
        "    #   and union of hit-or-miss result with the image\n",
        "\n",
        "    # First stage of thickening\n",
        "    hit_or_miss = hit_or_miss_for_binary(img, B2, Bg)\n",
        "    b2_thick = union_for_binary(img, hit_or_miss)\n",
        "    prev_b2_thick = img\n",
        "\n",
        "    # If the image can be thickened more\n",
        "    while not np.array_equal(prev_b2_thick, b2_thick):\n",
        "\n",
        "        prev_b2_thick = np.copy(b2_thick)\n",
        "\n",
        "        # thicken the image with B2 and Bg\n",
        "        hit_or_miss = hit_or_miss_for_binary(b2_thick, B2, Bg)\n",
        "        b2_thick = union_for_binary(b2_thick, hit_or_miss)\n",
        "\n",
        "    # Loop for B3:\n",
        "    #   This loop thickens the original image with B3 and Bg\n",
        "    #   until it cannot thicken anymore\n",
        "    #   Thickening process consists of hit-or-miss with B3 and Bg\n",
        "    #   and union of hit-or-miss result with the image\n",
        "\n",
        "    # First stage of thickening\n",
        "    hit_or_miss = hit_or_miss_for_binary(img, B3,Bg)\n",
        "    b3_thick = union_for_binary(img, hit_or_miss)\n",
        "    prev_b3_thick = img\n",
        "\n",
        "    # If the image can be thickened more\n",
        "    while not np.array_equal(prev_b3_thick, b3_thick):\n",
        "\n",
        "        prev_b3_thick = np.copy(b3_thick)\n",
        "\n",
        "        # thicken the image with B3 and Bg\n",
        "        hit_or_miss = hit_or_miss_for_binary(b3_thick, B3, Bg)\n",
        "        b3_thick = union_for_binary(b3_thick, hit_or_miss)\n",
        "\n",
        "    # Loop for B4:\n",
        "    #   This loop thickens the original image with B4 and Bg\n",
        "    #   until it cannot thicken anymore\n",
        "    #   Thickening process consists of hit-or-miss with B4 and Bg\n",
        "    #   and union of hit-or-miss result with the image\n",
        "\n",
        "    # First stage of thickening\n",
        "    hit_or_miss = hit_or_miss_for_binary(img, B4,Bg)\n",
        "    b4_thick = union_for_binary(img, hit_or_miss)\n",
        "    prev_b4_thick = img\n",
        "\n",
        "    # If the image can be thickened more\n",
        "    while not np.array_equal(prev_b4_thick, b4_thick):\n",
        "\n",
        "        prev_b4_thick = np.copy(b4_thick)\n",
        "\n",
        "        # thicken the image with B4 and Bg\n",
        "        hit_or_miss = hit_or_miss_for_binary(b4_thick, B4, Bg)\n",
        "        b4_thick = union_for_binary(b4_thick, hit_or_miss)\n",
        "\n",
        "\n",
        "    # Next stage of the algorithm is to take the union of 4 thickened results\n",
        "    #   i.e., gathering all the versions of the image completed from one side\n",
        "    tmp_union_1 = union_for_binary(b1_thick, b2_thick)\n",
        "    tmp_union_2 = union_for_binary(b3_thick, b4_thick)\n",
        "    total_union = union_for_binary(tmp_union_1, tmp_union_2)\n",
        "\n",
        "    # Final step of the algorithm is to crop the convex hull according tı bounding box of the image\n",
        "    #   This step is needed as previous steps of the algorithm finds a wrapping convex shape, but\n",
        "    #   it is not tightly wrapping, i.e. it is not minimal\n",
        "\n",
        "    # Variables to store the top left corner (min_row, min_col) and bottom right corner (max_row, max_col) of the bounding box\n",
        "    min_row = float('inf')\n",
        "    min_col = float('inf')\n",
        "    max_row = 0\n",
        "    max_col = 0\n",
        "\n",
        "    # Iterate through each pixel\n",
        "    for row in range(img.shape[0]):\n",
        "        for col in range(img.shape[1]):\n",
        "\n",
        "            # If the pixel is part of foreground\n",
        "            if img[row, col] == 1:\n",
        "\n",
        "                # Update the bounding box corners\n",
        "                min_row = min(min_row, row)\n",
        "                min_col = min(min_col, col)\n",
        "\n",
        "                max_row = max(max_row, row)\n",
        "                max_col = max(max_col, col)\n",
        "\n",
        "    # After finding the corners of bounding box,\n",
        "    #   we can construct a mask in the shape of the bounding box\n",
        "    #   to crop the result of previous algorithm\n",
        "\n",
        "    mask = np.zeros(img.shape)\n",
        "    # Pixels within the bounding box corners must be on foreground\n",
        "    mask[min_row:max_row+1, min_col:max_col+1] = 1\n",
        "\n",
        "    # Cropping the convex hull with bounding box to finalize the algorithm\n",
        "    cropped_total = intersect_for_binary(total_union, mask)\n",
        "\n",
        "    return cropped_total"
      ],
      "metadata": {
        "id": "yXHxanT9zaNy"
      },
      "execution_count": 7,
      "outputs": []
    },
    {
      "cell_type": "markdown",
      "source": [
        "Now calling the convex hull function on the cat:"
      ],
      "metadata": {
        "id": "my7JE96Z4v86"
      }
    },
    {
      "cell_type": "code",
      "source": [
        "CH_cat = convex_hull_for_binary(perfectly_painted_cat)\n",
        "plt.imshow(CH_cat, cmap=\"gray\")\n",
        "plt.show()"
      ],
      "metadata": {
        "colab": {
          "base_uri": "https://localhost:8080/",
          "height": 435
        },
        "id": "jr2ljouE43Gg",
        "outputId": "d86e9b8b-925a-482c-f181-1ead5857ed4f"
      },
      "execution_count": 10,
      "outputs": [
        {
          "output_type": "display_data",
          "data": {
            "text/plain": [
              "<Figure size 640x480 with 1 Axes>"
            ],
            "image/png": "[encoded data removed]"
          },
          "metadata": {}
        }
      ]
    }
  ]
}